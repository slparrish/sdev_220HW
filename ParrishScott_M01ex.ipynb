{
 "cells": [
  {
   "cell_type": "markdown",
   "id": "a982dbf6",
   "metadata": {},
   "source": [
    "# Scott Parrish SDEV 220 M01 HW 10/22/2023"
   ]
  },
  {
   "cell_type": "markdown",
   "id": "110001af",
   "metadata": {},
   "source": [
    "### Thing 3.1"
   ]
  },
  {
   "cell_type": "code",
   "execution_count": 1,
   "id": "ffe9cca2",
   "metadata": {},
   "outputs": [
    {
     "data": {
      "text/plain": [
       "3600"
      ]
     },
     "execution_count": 1,
     "metadata": {},
     "output_type": "execute_result"
    }
   ],
   "source": [
    "60 * 60"
   ]
  },
  {
   "cell_type": "markdown",
   "id": "f9c12908",
   "metadata": {},
   "source": [
    "### Thing 3.2"
   ]
  },
  {
   "cell_type": "code",
   "execution_count": 2,
   "id": "d6e2b721",
   "metadata": {},
   "outputs": [],
   "source": [
    "seconds_per_hour = 60 * 60"
   ]
  },
  {
   "cell_type": "markdown",
   "id": "5c48cd96",
   "metadata": {},
   "source": [
    "### Thing 3.3"
   ]
  },
  {
   "cell_type": "code",
   "execution_count": 6,
   "id": "76bad0c6",
   "metadata": {},
   "outputs": [
    {
     "data": {
      "text/plain": [
       "86400"
      ]
     },
     "execution_count": 6,
     "metadata": {},
     "output_type": "execute_result"
    }
   ],
   "source": [
    "seconds_per_hour * 24"
   ]
  },
  {
   "cell_type": "markdown",
   "id": "5d6fb876",
   "metadata": {},
   "source": [
    "### Thing 3.4"
   ]
  },
  {
   "cell_type": "code",
   "execution_count": 5,
   "id": "712079af",
   "metadata": {},
   "outputs": [
    {
     "name": "stdout",
     "output_type": "stream",
     "text": [
      "86400\n"
     ]
    }
   ],
   "source": [
    "seconds_per_day = seconds_per_hour * 24\n",
    "print(seconds_per_day)"
   ]
  },
  {
   "cell_type": "markdown",
   "id": "f8d2cd22",
   "metadata": {},
   "source": [
    "### Thing 3.5"
   ]
  },
  {
   "cell_type": "code",
   "execution_count": 7,
   "id": "f1c247f8",
   "metadata": {},
   "outputs": [
    {
     "data": {
      "text/plain": [
       "24.0"
      ]
     },
     "execution_count": 7,
     "metadata": {},
     "output_type": "execute_result"
    }
   ],
   "source": [
    "seconds_per_day / seconds_per_hour"
   ]
  },
  {
   "cell_type": "markdown",
   "id": "f91cdac9",
   "metadata": {},
   "source": [
    "### Thing 3.6"
   ]
  },
  {
   "cell_type": "code",
   "execution_count": 8,
   "id": "0749339b",
   "metadata": {},
   "outputs": [
    {
     "data": {
      "text/plain": [
       "24"
      ]
     },
     "execution_count": 8,
     "metadata": {},
     "output_type": "execute_result"
    }
   ],
   "source": [
    "seconds_per_day // seconds_per_hour"
   ]
  },
  {
   "cell_type": "markdown",
   "id": "05ef636a",
   "metadata": {},
   "source": [
    "- The answers for Thing 3.5 and Thing 3.6 agreed aside from the .0"
   ]
  }
 ],
 "metadata": {
  "kernelspec": {
   "display_name": "Python 3 (ipykernel)",
   "language": "python",
   "name": "python3"
  },
  "language_info": {
   "codemirror_mode": {
    "name": "ipython",
    "version": 3
   },
   "file_extension": ".py",
   "mimetype": "text/x-python",
   "name": "python",
   "nbconvert_exporter": "python",
   "pygments_lexer": "ipython3",
   "version": "3.10.13"
  }
 },
 "nbformat": 4,
 "nbformat_minor": 5
}
