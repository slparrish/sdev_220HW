{
 "cells": [
  {
   "cell_type": "markdown",
   "id": "0b8220a9",
   "metadata": {},
   "source": [
    "# Things to do: Parrish, Scott - 11/19/2023 - SDEV 220"
   ]
  },
  {
   "cell_type": "markdown",
   "id": "b011a350",
   "metadata": {},
   "source": [
    "### Thing 11.1:"
   ]
  },
  {
   "cell_type": "code",
   "execution_count": 2,
   "id": "8c3dbff0",
   "metadata": {},
   "outputs": [
    {
     "name": "stdout",
     "output_type": "stream",
     "text": [
      "Open 9-5 daily.\n"
     ]
    }
   ],
   "source": [
    "import zoo\n",
    "zoo.hours()"
   ]
  },
  {
   "cell_type": "markdown",
   "id": "ae2b6673",
   "metadata": {},
   "source": [
    "### Thing 11.2:"
   ]
  },
  {
   "cell_type": "code",
   "execution_count": 3,
   "id": "32c96f49",
   "metadata": {},
   "outputs": [
    {
     "name": "stdout",
     "output_type": "stream",
     "text": [
      "Open 9-5 daily.\n"
     ]
    }
   ],
   "source": [
    "import zoo as menagerie\n",
    "menagerie.hours()"
   ]
  },
  {
   "cell_type": "code",
   "execution_count": null,
   "id": "4fac62b7",
   "metadata": {},
   "outputs": [],
   "source": []
  }
 ],
 "metadata": {
  "kernelspec": {
   "display_name": "Python 3 (ipykernel)",
   "language": "python",
   "name": "python3"
  },
  "language_info": {
   "codemirror_mode": {
    "name": "ipython",
    "version": 3
   },
   "file_extension": ".py",
   "mimetype": "text/x-python",
   "name": "python",
   "nbconvert_exporter": "python",
   "pygments_lexer": "ipython3",
   "version": "3.11.5"
  }
 },
 "nbformat": 4,
 "nbformat_minor": 5
}
