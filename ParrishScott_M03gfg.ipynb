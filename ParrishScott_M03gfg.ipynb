{
 "cells": [
  {
   "cell_type": "markdown",
   "id": "3ed7c2a9",
   "metadata": {},
   "source": [
    "# Module 3 GFG Exercises Parrish, Scott 11/13/23"
   ]
  },
  {
   "cell_type": "markdown",
   "id": "98d95c11",
   "metadata": {},
   "source": [
    "### OOP Sort012"
   ]
  },
  {
   "cell_type": "code",
   "execution_count": null,
   "id": "d647b4d4",
   "metadata": {},
   "outputs": [],
   "source": [
    "class Solution:\n",
    "    def sort012(self,arr,n):\n",
    "        array = arr\n",
    "        array.sort()"
   ]
  },
  {
   "cell_type": "markdown",
   "id": "bbbdfcc5",
   "metadata": {},
   "source": [
    "### Function binarysearch:"
   ]
  },
  {
   "cell_type": "code",
   "execution_count": 1,
   "id": "dc7af157",
   "metadata": {},
   "outputs": [],
   "source": [
    "class Solution:\t\n",
    "\tdef binarysearch(self, arr, n, k):\n",
    "\t\t# code here\n",
    "\t\tif k in arr:\n",
    "\t\t    return arr.index(k)\n",
    "\t\telse:\n",
    "\t\t    return -1\n"
   ]
  },
  {
   "cell_type": "code",
   "execution_count": null,
   "id": "7f0268a2",
   "metadata": {},
   "outputs": [],
   "source": []
  }
 ],
 "metadata": {
  "kernelspec": {
   "display_name": "Python 3 (ipykernel)",
   "language": "python",
   "name": "python3"
  },
  "language_info": {
   "codemirror_mode": {
    "name": "ipython",
    "version": 3
   },
   "file_extension": ".py",
   "mimetype": "text/x-python",
   "name": "python",
   "nbconvert_exporter": "python",
   "pygments_lexer": "ipython3",
   "version": "3.10.13"
  }
 },
 "nbformat": 4,
 "nbformat_minor": 5
}
