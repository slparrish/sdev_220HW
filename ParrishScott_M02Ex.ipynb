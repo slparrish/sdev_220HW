{
 "cells": [
  {
   "cell_type": "markdown",
   "id": "217c5a9a",
   "metadata": {},
   "source": [
    "#  Things to do:"
   ]
  },
  {
   "cell_type": "markdown",
   "id": "8521b99d",
   "metadata": {},
   "source": [
    "Parrish, Scott\n",
    "SDEV 220\n",
    "M02 Things\n",
    "11/05/2023"
   ]
  },
  {
   "cell_type": "markdown",
   "id": "8cb851b9",
   "metadata": {},
   "source": [
    "### Thing 4.1"
   ]
  },
  {
   "cell_type": "code",
   "execution_count": 4,
   "id": "7ba35d89",
   "metadata": {},
   "outputs": [
    {
     "name": "stdout",
     "output_type": "stream",
     "text": [
      "too low\n"
     ]
    }
   ],
   "source": [
    "secret = 7\n",
    "guess = 4\n",
    "if guess == secret:\n",
    "    print('just right')\n",
    "elif guess < secret:\n",
    "    print('too low')\n",
    "else:\n",
    "    print('too high')"
   ]
  },
  {
   "cell_type": "markdown",
   "id": "8bd1f4da",
   "metadata": {},
   "source": [
    "### Thing 4.2"
   ]
  },
  {
   "cell_type": "code",
   "execution_count": 6,
   "id": "71e4ff31",
   "metadata": {},
   "outputs": [
    {
     "name": "stdout",
     "output_type": "stream",
     "text": [
      "It is a watermelon\n"
     ]
    }
   ],
   "source": [
    "small = False\n",
    "green = True\n",
    "if small:\n",
    "    if green:\n",
    "        print('It is a pea.')\n",
    "    else:\n",
    "        print('It is a cherry.')\n",
    "else:\n",
    "    if green:\n",
    "        print('It is a watermelon')\n",
    "    else:\n",
    "        print('It is a pumpkin.')"
   ]
  },
  {
   "cell_type": "markdown",
   "id": "fe6eb1cd",
   "metadata": {},
   "source": [
    "### Thing 6.1"
   ]
  },
  {
   "cell_type": "code",
   "execution_count": 8,
   "id": "41930bb9",
   "metadata": {},
   "outputs": [
    {
     "name": "stdout",
     "output_type": "stream",
     "text": [
      "3\n",
      "2\n",
      "1\n",
      "0\n"
     ]
    }
   ],
   "source": [
    "my_list = [3, 2, 1, 0]\n",
    "for i in my_list:\n",
    "    print(i)"
   ]
  },
  {
   "cell_type": "markdown",
   "id": "92589ceb",
   "metadata": {},
   "source": [
    "### Thing 6.2"
   ]
  },
  {
   "cell_type": "code",
   "execution_count": 12,
   "id": "da3a123a",
   "metadata": {},
   "outputs": [
    {
     "name": "stdout",
     "output_type": "stream",
     "text": [
      "1 too low\n",
      "2 too low\n",
      "3 too low\n",
      "4 too low\n",
      "5 too low\n",
      "6 too low\n",
      "7 found it!\n"
     ]
    }
   ],
   "source": [
    "guess_me = 7\n",
    "number = 1\n",
    "while number <= 10:\n",
    "    if number < guess_me:\n",
    "        print(f'{number} too low')\n",
    "    elif number == guess_me:\n",
    "        print(f'{number} found it!')\n",
    "        break\n",
    "    else:    # unreachable\n",
    "        print(f'{number} oops')\n",
    "        break\n",
    "    number += 1"
   ]
  },
  {
   "cell_type": "markdown",
   "id": "47ecfac7",
   "metadata": {},
   "source": [
    "### Thing 6.3"
   ]
  },
  {
   "cell_type": "code",
   "execution_count": 13,
   "id": "fc375a2b",
   "metadata": {},
   "outputs": [
    {
     "name": "stdout",
     "output_type": "stream",
     "text": [
      "0 too low\n",
      "1 too low\n",
      "2 too low\n",
      "3 too low\n",
      "4 too low\n",
      "5 found it!\n"
     ]
    }
   ],
   "source": [
    "guess_me = 5\n",
    "for number in range(10):\n",
    "    if number < guess_me:\n",
    "        print(f'{number} too low')\n",
    "    elif number == guess_me:\n",
    "        print(f'{number} found it!')\n",
    "        break\n",
    "    else:          #unreachable\n",
    "        print(f'{number} oops')"
   ]
  },
  {
   "cell_type": "code",
   "execution_count": null,
   "id": "f10ec86d",
   "metadata": {},
   "outputs": [],
   "source": []
  }
 ],
 "metadata": {
  "kernelspec": {
   "display_name": "Python 3 (ipykernel)",
   "language": "python",
   "name": "python3"
  },
  "language_info": {
   "codemirror_mode": {
    "name": "ipython",
    "version": 3
   },
   "file_extension": ".py",
   "mimetype": "text/x-python",
   "name": "python",
   "nbconvert_exporter": "python",
   "pygments_lexer": "ipython3",
   "version": "3.11.5"
  }
 },
 "nbformat": 4,
 "nbformat_minor": 5
}
