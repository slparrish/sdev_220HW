{
 "cells": [
  {
   "cell_type": "markdown",
   "id": "4a59d60a",
   "metadata": {},
   "source": [
    "# Module 3 Things to do\n",
    "### Parrish, Scott\n",
    "### 11/12/23"
   ]
  },
  {
   "cell_type": "markdown",
   "id": "ffa00358",
   "metadata": {},
   "source": [
    "### Thing 7.4:"
   ]
  },
  {
   "cell_type": "code",
   "execution_count": 18,
   "id": "93cf771e",
   "metadata": {},
   "outputs": [],
   "source": [
    "things = [\"mozzarella\", \"cinderella\", \"salmonella\"]"
   ]
  },
  {
   "cell_type": "markdown",
   "id": "ca0c97f7",
   "metadata": {},
   "source": [
    "### Thing 7.5:"
   ]
  },
  {
   "cell_type": "code",
   "execution_count": 16,
   "id": "900e3f0d",
   "metadata": {},
   "outputs": [
    {
     "name": "stdout",
     "output_type": "stream",
     "text": [
      "['mozarella', 'cinderella', 'salmonella']\n"
     ]
    }
   ],
   "source": [
    "things[1].capitalize()\n",
    "# print(things[1].capitalize())   # returns 'Cinderella'\n",
    "print(things)"
   ]
  },
  {
   "cell_type": "markdown",
   "id": "ebd03367",
   "metadata": {},
   "source": [
    "The capitalize method returns the capitalized element but does not alter the list (unlike sort() which does alter the list)."
   ]
  },
  {
   "cell_type": "markdown",
   "id": "5a093963",
   "metadata": {},
   "source": [
    "### Thing 7.6:"
   ]
  },
  {
   "cell_type": "code",
   "execution_count": 20,
   "id": "e7e53252",
   "metadata": {},
   "outputs": [
    {
     "name": "stdout",
     "output_type": "stream",
     "text": [
      "['MOZZARELLA', 'cinderella', 'salmonella']\n"
     ]
    }
   ],
   "source": [
    "things[things.index('mozzarella')] = things[things.index('mozzarella')].upper()\n",
    "print(things)"
   ]
  },
  {
   "cell_type": "markdown",
   "id": "ab3df02d",
   "metadata": {},
   "source": [
    "### Thing 7.7:"
   ]
  },
  {
   "cell_type": "code",
   "execution_count": 21,
   "id": "81e8fa57",
   "metadata": {},
   "outputs": [
    {
     "name": "stdout",
     "output_type": "stream",
     "text": [
      "['MOZZARELLA', 'cinderella']\n"
     ]
    }
   ],
   "source": [
    "things.remove('salmonella')\n",
    "print(things)"
   ]
  },
  {
   "cell_type": "markdown",
   "id": "161028c6",
   "metadata": {},
   "source": [
    "### Thing 9.1:"
   ]
  },
  {
   "cell_type": "code",
   "execution_count": 4,
   "id": "34875903",
   "metadata": {},
   "outputs": [
    {
     "name": "stdout",
     "output_type": "stream",
     "text": [
      "['Harry', 'Ron', 'Hermione']\n"
     ]
    }
   ],
   "source": [
    "def good():\n",
    "    return ['Harry', 'Ron', 'Hermione']\n",
    "print(good())"
   ]
  },
  {
   "cell_type": "markdown",
   "id": "75ef5ea2",
   "metadata": {},
   "source": [
    "### Thing 9.2:"
   ]
  },
  {
   "cell_type": "code",
   "execution_count": 10,
   "id": "57f14a74",
   "metadata": {},
   "outputs": [
    {
     "name": "stdout",
     "output_type": "stream",
     "text": [
      "5\n"
     ]
    }
   ],
   "source": [
    "def get_odds(start=0, stop=10, step=1):\n",
    "    number = start\n",
    "    while number < stop:\n",
    "        if number % 2 != 0:\n",
    "            yield number\n",
    "        number += step\n",
    "\n",
    "my_odds = get_odds()\n",
    "i = 0\n",
    "for num in my_odds:\n",
    "    # print(i, num)\n",
    "    if i == 2:\n",
    "        print(num)\n",
    "    i += 1\n"
   ]
  }
 ],
 "metadata": {
  "kernelspec": {
   "display_name": "Python 3 (ipykernel)",
   "language": "python",
   "name": "python3"
  },
  "language_info": {
   "codemirror_mode": {
    "name": "ipython",
    "version": 3
   },
   "file_extension": ".py",
   "mimetype": "text/x-python",
   "name": "python",
   "nbconvert_exporter": "python",
   "pygments_lexer": "ipython3",
   "version": "3.10.13"
  }
 },
 "nbformat": 4,
 "nbformat_minor": 5
}
